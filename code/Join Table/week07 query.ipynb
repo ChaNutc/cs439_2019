{
 "cells": [
  {
   "cell_type": "markdown",
   "metadata": {},
   "source": [
    "# Questions [40marks]\n",
    "* Q1 Who did spend most money for renting?\n",
    "* Q2 Which room does make the most amount of income?\n",
    "* Q3 How many time Jack Jones rent the room?\n",
    "* Q4 What are the roomss rented by Claire Taylor?\n",
    "* Q5 what is the total income of ALL rooms in June? Between 1st June 2018(inclusive) and 30th June 2018(inclusive), (use return date).\n",
    "* Q6 What are the total incomes of EACH room in June? Between 1st June 2018(inclusive) and 30th June 2018(inclusive), (use return date) \n",
    "* Q7 Find members that have total rent time exactly 8 hours in June?\n",
    "* Q8 Find members that have total rent time greater than or equal than 9 hours in June?\n",
    "* Q9 Find the total rent duration of EACH room in June?\n",
    "* Q10 Find the total income of EACH room in June?\n",
    "\n",
    "# คำถาม [ข้อละ 4 คะแนน รวม 40 คะแนน]\n",
    "* Q1 ใครจ่ายเงินค่าเช่ามากที่สุด\n",
    "* Q2 ห้องเช่าใดทำรายได้มากที่สุด\n",
    "* Q3 Jack Jones เช่าห้องไปกี่ครั้ง\n",
    "* Q4 Claire Taylor เช่าห้องไปกี่ครั้ง\n",
    "* Q5 ในเดือนมิถุนายนมีรายรับรวมเท่าใด\n",
    "* Q6 ในเดือนมิถุนายนแต่ละห้องมีรายรับรวมเท่าใด\n",
    "* Q7 หาชื่อสมาชิกที่เช่าห้อง 8 ชั่วโมงในเดือนมิถุนายน\n",
    "* Q8 หาชื่อสมาชิกที่เช่าห้องมากกว่าหรือเท่ากับ 9 ชั่วโมงในเดือนมิถุนายน\n",
    "* Q9 หาระยะเวลาเช่ารวมของแต่ละห้องในเดือนมิถุนายน\n",
    "* Q10 หารายได้รวมของแต่ละห้องในเดือนมิถุนายน"
   ]
  },
  {
   "cell_type": "code",
   "execution_count": 1,
   "metadata": {},
   "outputs": [],
   "source": [
    "import pandas as pd\n",
    "from pytz import datetime as dt"
   ]
  },
  {
   "cell_type": "code",
   "execution_count": 2,
   "metadata": {},
   "outputs": [],
   "source": [
    "member_df = pd.read_csv('member.csv')\n",
    "member_df.drop(['Unnamed: 0','mobile'],axis=1,inplace =True)\n",
    "rent_df = pd.read_csv('rent.csv')\n",
    "rent_df.drop(['Unnamed: 0'],axis=1,inplace =True)\n",
    "room_df = pd.read_csv('room.csv')\n",
    "room_df.drop(['Unnamed: 0','isavailable'],axis=1,inplace =True)\n"
   ]
  },
  {
   "cell_type": "code",
   "execution_count": 3,
   "metadata": {},
   "outputs": [
    {
     "data": {
      "text/html": [
       "<div>\n",
       "<style scoped>\n",
       "    .dataframe tbody tr th:only-of-type {\n",
       "        vertical-align: middle;\n",
       "    }\n",
       "\n",
       "    .dataframe tbody tr th {\n",
       "        vertical-align: top;\n",
       "    }\n",
       "\n",
       "    .dataframe thead th {\n",
       "        text-align: right;\n",
       "    }\n",
       "</style>\n",
       "<table border=\"1\" class=\"dataframe\">\n",
       "  <thead>\n",
       "    <tr style=\"text-align: right;\">\n",
       "      <th></th>\n",
       "      <th>id</th>\n",
       "      <th>name</th>\n",
       "    </tr>\n",
       "  </thead>\n",
       "  <tbody>\n",
       "    <tr>\n",
       "      <th>0</th>\n",
       "      <td>1</td>\n",
       "      <td>Oscar Williams</td>\n",
       "    </tr>\n",
       "    <tr>\n",
       "      <th>1</th>\n",
       "      <td>2</td>\n",
       "      <td>James Jones</td>\n",
       "    </tr>\n",
       "    <tr>\n",
       "      <th>2</th>\n",
       "      <td>3</td>\n",
       "      <td>Claire Thomas</td>\n",
       "    </tr>\n",
       "    <tr>\n",
       "      <th>3</th>\n",
       "      <td>4</td>\n",
       "      <td>Oliver Johnson</td>\n",
       "    </tr>\n",
       "    <tr>\n",
       "      <th>4</th>\n",
       "      <td>5</td>\n",
       "      <td>Oliver Jones</td>\n",
       "    </tr>\n",
       "  </tbody>\n",
       "</table>\n",
       "</div>"
      ],
      "text/plain": [
       "   id            name\n",
       "0   1  Oscar Williams\n",
       "1   2     James Jones\n",
       "2   3   Claire Thomas\n",
       "3   4  Oliver Johnson\n",
       "4   5    Oliver Jones"
      ]
     },
     "execution_count": 3,
     "metadata": {},
     "output_type": "execute_result"
    }
   ],
   "source": [
    "member_df.head()"
   ]
  },
  {
   "cell_type": "code",
   "execution_count": 4,
   "metadata": {},
   "outputs": [
    {
     "data": {
      "text/html": [
       "<div>\n",
       "<style scoped>\n",
       "    .dataframe tbody tr th:only-of-type {\n",
       "        vertical-align: middle;\n",
       "    }\n",
       "\n",
       "    .dataframe tbody tr th {\n",
       "        vertical-align: top;\n",
       "    }\n",
       "\n",
       "    .dataframe thead th {\n",
       "        text-align: right;\n",
       "    }\n",
       "</style>\n",
       "<table border=\"1\" class=\"dataframe\">\n",
       "  <thead>\n",
       "    <tr style=\"text-align: right;\">\n",
       "      <th></th>\n",
       "      <th>id</th>\n",
       "      <th>start</th>\n",
       "      <th>stop</th>\n",
       "      <th>member_id</th>\n",
       "      <th>room_id</th>\n",
       "      <th>cost</th>\n",
       "    </tr>\n",
       "  </thead>\n",
       "  <tbody>\n",
       "    <tr>\n",
       "      <th>0</th>\n",
       "      <td>383</td>\n",
       "      <td>2018-05-09 08:01:18.462109</td>\n",
       "      <td>2018-05-09 09:01:18.462109</td>\n",
       "      <td>48</td>\n",
       "      <td>7</td>\n",
       "      <td>100.0</td>\n",
       "    </tr>\n",
       "    <tr>\n",
       "      <th>1</th>\n",
       "      <td>384</td>\n",
       "      <td>2018-05-09 08:01:18.462109</td>\n",
       "      <td>2018-05-09 10:01:18.462109</td>\n",
       "      <td>1</td>\n",
       "      <td>9</td>\n",
       "      <td>260.0</td>\n",
       "    </tr>\n",
       "    <tr>\n",
       "      <th>2</th>\n",
       "      <td>385</td>\n",
       "      <td>2018-05-09 09:01:18.462109</td>\n",
       "      <td>2018-05-09 10:01:18.462109</td>\n",
       "      <td>67</td>\n",
       "      <td>10</td>\n",
       "      <td>199.0</td>\n",
       "    </tr>\n",
       "    <tr>\n",
       "      <th>3</th>\n",
       "      <td>386</td>\n",
       "      <td>2018-05-09 10:01:18.462109</td>\n",
       "      <td>2018-05-09 12:01:18.462109</td>\n",
       "      <td>18</td>\n",
       "      <td>7</td>\n",
       "      <td>200.0</td>\n",
       "    </tr>\n",
       "    <tr>\n",
       "      <th>4</th>\n",
       "      <td>387</td>\n",
       "      <td>2018-05-09 12:01:18.462109</td>\n",
       "      <td>2018-05-09 15:01:18.462109</td>\n",
       "      <td>86</td>\n",
       "      <td>6</td>\n",
       "      <td>315.0</td>\n",
       "    </tr>\n",
       "  </tbody>\n",
       "</table>\n",
       "</div>"
      ],
      "text/plain": [
       "    id                       start                        stop  member_id  \\\n",
       "0  383  2018-05-09 08:01:18.462109  2018-05-09 09:01:18.462109         48   \n",
       "1  384  2018-05-09 08:01:18.462109  2018-05-09 10:01:18.462109          1   \n",
       "2  385  2018-05-09 09:01:18.462109  2018-05-09 10:01:18.462109         67   \n",
       "3  386  2018-05-09 10:01:18.462109  2018-05-09 12:01:18.462109         18   \n",
       "4  387  2018-05-09 12:01:18.462109  2018-05-09 15:01:18.462109         86   \n",
       "\n",
       "   room_id   cost  \n",
       "0        7  100.0  \n",
       "1        9  260.0  \n",
       "2       10  199.0  \n",
       "3        7  200.0  \n",
       "4        6  315.0  "
      ]
     },
     "execution_count": 4,
     "metadata": {},
     "output_type": "execute_result"
    }
   ],
   "source": [
    "rent_df.head()"
   ]
  },
  {
   "cell_type": "code",
   "execution_count": 5,
   "metadata": {},
   "outputs": [
    {
     "data": {
      "text/html": [
       "<div>\n",
       "<style scoped>\n",
       "    .dataframe tbody tr th:only-of-type {\n",
       "        vertical-align: middle;\n",
       "    }\n",
       "\n",
       "    .dataframe tbody tr th {\n",
       "        vertical-align: top;\n",
       "    }\n",
       "\n",
       "    .dataframe thead th {\n",
       "        text-align: right;\n",
       "    }\n",
       "</style>\n",
       "<table border=\"1\" class=\"dataframe\">\n",
       "  <thead>\n",
       "    <tr style=\"text-align: right;\">\n",
       "      <th></th>\n",
       "      <th>id</th>\n",
       "      <th>number</th>\n",
       "      <th>hour_price</th>\n",
       "    </tr>\n",
       "  </thead>\n",
       "  <tbody>\n",
       "    <tr>\n",
       "      <th>0</th>\n",
       "      <td>6</td>\n",
       "      <td>101</td>\n",
       "      <td>105</td>\n",
       "    </tr>\n",
       "    <tr>\n",
       "      <th>1</th>\n",
       "      <td>7</td>\n",
       "      <td>102</td>\n",
       "      <td>100</td>\n",
       "    </tr>\n",
       "    <tr>\n",
       "      <th>2</th>\n",
       "      <td>8</td>\n",
       "      <td>103</td>\n",
       "      <td>170</td>\n",
       "    </tr>\n",
       "    <tr>\n",
       "      <th>3</th>\n",
       "      <td>9</td>\n",
       "      <td>104</td>\n",
       "      <td>130</td>\n",
       "    </tr>\n",
       "    <tr>\n",
       "      <th>4</th>\n",
       "      <td>10</td>\n",
       "      <td>105</td>\n",
       "      <td>199</td>\n",
       "    </tr>\n",
       "  </tbody>\n",
       "</table>\n",
       "</div>"
      ],
      "text/plain": [
       "   id  number  hour_price\n",
       "0   6     101         105\n",
       "1   7     102         100\n",
       "2   8     103         170\n",
       "3   9     104         130\n",
       "4  10     105         199"
      ]
     },
     "execution_count": 5,
     "metadata": {},
     "output_type": "execute_result"
    }
   ],
   "source": [
    "room_df"
   ]
  },
  {
   "cell_type": "code",
   "execution_count": 6,
   "metadata": {},
   "outputs": [
    {
     "data": {
      "text/plain": [
       "id           3427\n",
       "start        3427\n",
       "stop         3426\n",
       "member_id    3427\n",
       "room_id      3427\n",
       "cost         3426\n",
       "dtype: int64"
      ]
     },
     "execution_count": 6,
     "metadata": {},
     "output_type": "execute_result"
    }
   ],
   "source": [
    "rent_df.count()"
   ]
  },
  {
   "cell_type": "code",
   "execution_count": 7,
   "metadata": {},
   "outputs": [
    {
     "data": {
      "text/plain": [
       "id      100\n",
       "name    100\n",
       "dtype: int64"
      ]
     },
     "execution_count": 7,
     "metadata": {},
     "output_type": "execute_result"
    }
   ],
   "source": [
    "member_df.count()"
   ]
  },
  {
   "cell_type": "code",
   "execution_count": 8,
   "metadata": {},
   "outputs": [
    {
     "data": {
      "text/html": [
       "<div>\n",
       "<style scoped>\n",
       "    .dataframe tbody tr th:only-of-type {\n",
       "        vertical-align: middle;\n",
       "    }\n",
       "\n",
       "    .dataframe tbody tr th {\n",
       "        vertical-align: top;\n",
       "    }\n",
       "\n",
       "    .dataframe thead th {\n",
       "        text-align: right;\n",
       "    }\n",
       "</style>\n",
       "<table border=\"1\" class=\"dataframe\">\n",
       "  <thead>\n",
       "    <tr style=\"text-align: right;\">\n",
       "      <th></th>\n",
       "      <th>id_x</th>\n",
       "      <th>start</th>\n",
       "      <th>stop</th>\n",
       "      <th>member_id</th>\n",
       "      <th>room_id</th>\n",
       "      <th>cost</th>\n",
       "      <th>id_y</th>\n",
       "      <th>name</th>\n",
       "    </tr>\n",
       "  </thead>\n",
       "  <tbody>\n",
       "    <tr>\n",
       "      <th>0</th>\n",
       "      <td>383</td>\n",
       "      <td>2018-05-09 08:01:18.462109</td>\n",
       "      <td>2018-05-09 09:01:18.462109</td>\n",
       "      <td>48</td>\n",
       "      <td>7</td>\n",
       "      <td>100.0</td>\n",
       "      <td>48</td>\n",
       "      <td>Thomas Thomas</td>\n",
       "    </tr>\n",
       "    <tr>\n",
       "      <th>1</th>\n",
       "      <td>395</td>\n",
       "      <td>2018-05-09 22:01:18.462109</td>\n",
       "      <td>2018-05-09 23:01:18.462109</td>\n",
       "      <td>48</td>\n",
       "      <td>6</td>\n",
       "      <td>105.0</td>\n",
       "      <td>48</td>\n",
       "      <td>Thomas Thomas</td>\n",
       "    </tr>\n",
       "    <tr>\n",
       "      <th>2</th>\n",
       "      <td>396</td>\n",
       "      <td>2018-05-09 23:01:18.462109</td>\n",
       "      <td>2018-05-10 00:01:18.462109</td>\n",
       "      <td>48</td>\n",
       "      <td>6</td>\n",
       "      <td>105.0</td>\n",
       "      <td>48</td>\n",
       "      <td>Thomas Thomas</td>\n",
       "    </tr>\n",
       "    <tr>\n",
       "      <th>3</th>\n",
       "      <td>777</td>\n",
       "      <td>2018-05-26 06:01:18.462109</td>\n",
       "      <td>2018-05-26 10:01:18.462109</td>\n",
       "      <td>48</td>\n",
       "      <td>6</td>\n",
       "      <td>420.0</td>\n",
       "      <td>48</td>\n",
       "      <td>Thomas Thomas</td>\n",
       "    </tr>\n",
       "    <tr>\n",
       "      <th>4</th>\n",
       "      <td>971</td>\n",
       "      <td>2018-06-03 08:01:18.462109</td>\n",
       "      <td>2018-06-03 13:01:18.462109</td>\n",
       "      <td>48</td>\n",
       "      <td>10</td>\n",
       "      <td>995.0</td>\n",
       "      <td>48</td>\n",
       "      <td>Thomas Thomas</td>\n",
       "    </tr>\n",
       "    <tr>\n",
       "      <th>5</th>\n",
       "      <td>1057</td>\n",
       "      <td>2018-06-07 07:01:18.462109</td>\n",
       "      <td>2018-06-07 12:01:18.462109</td>\n",
       "      <td>48</td>\n",
       "      <td>8</td>\n",
       "      <td>850.0</td>\n",
       "      <td>48</td>\n",
       "      <td>Thomas Thomas</td>\n",
       "    </tr>\n",
       "    <tr>\n",
       "      <th>6</th>\n",
       "      <td>1378</td>\n",
       "      <td>2018-06-20 17:01:18.462109</td>\n",
       "      <td>2018-06-20 20:01:18.462109</td>\n",
       "      <td>48</td>\n",
       "      <td>10</td>\n",
       "      <td>597.0</td>\n",
       "      <td>48</td>\n",
       "      <td>Thomas Thomas</td>\n",
       "    </tr>\n",
       "    <tr>\n",
       "      <th>7</th>\n",
       "      <td>1453</td>\n",
       "      <td>2018-06-24 03:01:18.462109</td>\n",
       "      <td>2018-06-24 06:01:18.462109</td>\n",
       "      <td>48</td>\n",
       "      <td>6</td>\n",
       "      <td>315.0</td>\n",
       "      <td>48</td>\n",
       "      <td>Thomas Thomas</td>\n",
       "    </tr>\n",
       "    <tr>\n",
       "      <th>8</th>\n",
       "      <td>1770</td>\n",
       "      <td>2018-07-07 14:01:18.462109</td>\n",
       "      <td>2018-07-07 15:01:18.462109</td>\n",
       "      <td>48</td>\n",
       "      <td>6</td>\n",
       "      <td>105.0</td>\n",
       "      <td>48</td>\n",
       "      <td>Thomas Thomas</td>\n",
       "    </tr>\n",
       "    <tr>\n",
       "      <th>9</th>\n",
       "      <td>1814</td>\n",
       "      <td>2018-07-09 05:01:18.462109</td>\n",
       "      <td>2018-07-09 07:01:18.462109</td>\n",
       "      <td>48</td>\n",
       "      <td>6</td>\n",
       "      <td>210.0</td>\n",
       "      <td>48</td>\n",
       "      <td>Thomas Thomas</td>\n",
       "    </tr>\n",
       "  </tbody>\n",
       "</table>\n",
       "</div>"
      ],
      "text/plain": [
       "   id_x                       start                        stop  member_id  \\\n",
       "0   383  2018-05-09 08:01:18.462109  2018-05-09 09:01:18.462109         48   \n",
       "1   395  2018-05-09 22:01:18.462109  2018-05-09 23:01:18.462109         48   \n",
       "2   396  2018-05-09 23:01:18.462109  2018-05-10 00:01:18.462109         48   \n",
       "3   777  2018-05-26 06:01:18.462109  2018-05-26 10:01:18.462109         48   \n",
       "4   971  2018-06-03 08:01:18.462109  2018-06-03 13:01:18.462109         48   \n",
       "5  1057  2018-06-07 07:01:18.462109  2018-06-07 12:01:18.462109         48   \n",
       "6  1378  2018-06-20 17:01:18.462109  2018-06-20 20:01:18.462109         48   \n",
       "7  1453  2018-06-24 03:01:18.462109  2018-06-24 06:01:18.462109         48   \n",
       "8  1770  2018-07-07 14:01:18.462109  2018-07-07 15:01:18.462109         48   \n",
       "9  1814  2018-07-09 05:01:18.462109  2018-07-09 07:01:18.462109         48   \n",
       "\n",
       "   room_id   cost  id_y           name  \n",
       "0        7  100.0    48  Thomas Thomas  \n",
       "1        6  105.0    48  Thomas Thomas  \n",
       "2        6  105.0    48  Thomas Thomas  \n",
       "3        6  420.0    48  Thomas Thomas  \n",
       "4       10  995.0    48  Thomas Thomas  \n",
       "5        8  850.0    48  Thomas Thomas  \n",
       "6       10  597.0    48  Thomas Thomas  \n",
       "7        6  315.0    48  Thomas Thomas  \n",
       "8        6  105.0    48  Thomas Thomas  \n",
       "9        6  210.0    48  Thomas Thomas  "
      ]
     },
     "execution_count": 8,
     "metadata": {},
     "output_type": "execute_result"
    }
   ],
   "source": [
    "rent_df.merge(member_df,left_on='member_id',right_on='id').head(10)"
   ]
  },
  {
   "cell_type": "code",
   "execution_count": 9,
   "metadata": {},
   "outputs": [],
   "source": [
    "df=rent_df.merge(member_df,left_on='member_id',right_on='id')\\\n",
    ".drop(labels=['id_y'],axis=1).merge(room_df,left_on='room_id',right_on='id')\\\n",
    ".drop(labels=['id'],axis=1)\n"
   ]
  },
  {
   "cell_type": "code",
   "execution_count": 10,
   "metadata": {},
   "outputs": [
    {
     "data": {
      "text/html": [
       "<div>\n",
       "<style scoped>\n",
       "    .dataframe tbody tr th:only-of-type {\n",
       "        vertical-align: middle;\n",
       "    }\n",
       "\n",
       "    .dataframe tbody tr th {\n",
       "        vertical-align: top;\n",
       "    }\n",
       "\n",
       "    .dataframe thead th {\n",
       "        text-align: right;\n",
       "    }\n",
       "</style>\n",
       "<table border=\"1\" class=\"dataframe\">\n",
       "  <thead>\n",
       "    <tr style=\"text-align: right;\">\n",
       "      <th></th>\n",
       "      <th>id_x</th>\n",
       "      <th>start</th>\n",
       "      <th>stop</th>\n",
       "      <th>member_id</th>\n",
       "      <th>room_id</th>\n",
       "      <th>cost</th>\n",
       "      <th>name</th>\n",
       "      <th>number</th>\n",
       "      <th>hour_price</th>\n",
       "    </tr>\n",
       "  </thead>\n",
       "  <tbody>\n",
       "    <tr>\n",
       "      <th>0</th>\n",
       "      <td>383</td>\n",
       "      <td>2018-05-09 08:01:18.462109</td>\n",
       "      <td>2018-05-09 09:01:18.462109</td>\n",
       "      <td>48</td>\n",
       "      <td>7</td>\n",
       "      <td>100.0</td>\n",
       "      <td>Thomas Thomas</td>\n",
       "      <td>102</td>\n",
       "      <td>100</td>\n",
       "    </tr>\n",
       "    <tr>\n",
       "      <th>1</th>\n",
       "      <td>1839</td>\n",
       "      <td>2018-07-10 12:01:18.462109</td>\n",
       "      <td>2018-07-10 13:01:18.462109</td>\n",
       "      <td>48</td>\n",
       "      <td>7</td>\n",
       "      <td>100.0</td>\n",
       "      <td>Thomas Thomas</td>\n",
       "      <td>102</td>\n",
       "      <td>100</td>\n",
       "    </tr>\n",
       "    <tr>\n",
       "      <th>2</th>\n",
       "      <td>2676</td>\n",
       "      <td>2018-08-16 01:01:18.462109</td>\n",
       "      <td>2018-08-16 02:01:18.462109</td>\n",
       "      <td>48</td>\n",
       "      <td>7</td>\n",
       "      <td>100.0</td>\n",
       "      <td>Thomas Thomas</td>\n",
       "      <td>102</td>\n",
       "      <td>100</td>\n",
       "    </tr>\n",
       "    <tr>\n",
       "      <th>3</th>\n",
       "      <td>3044</td>\n",
       "      <td>2018-08-31 02:01:18.462109</td>\n",
       "      <td>2018-08-31 03:01:18.462109</td>\n",
       "      <td>48</td>\n",
       "      <td>7</td>\n",
       "      <td>100.0</td>\n",
       "      <td>Thomas Thomas</td>\n",
       "      <td>102</td>\n",
       "      <td>100</td>\n",
       "    </tr>\n",
       "    <tr>\n",
       "      <th>4</th>\n",
       "      <td>3105</td>\n",
       "      <td>2018-09-02 13:01:18.462109</td>\n",
       "      <td>2018-09-02 16:01:18.462109</td>\n",
       "      <td>48</td>\n",
       "      <td>7</td>\n",
       "      <td>300.0</td>\n",
       "      <td>Thomas Thomas</td>\n",
       "      <td>102</td>\n",
       "      <td>100</td>\n",
       "    </tr>\n",
       "  </tbody>\n",
       "</table>\n",
       "</div>"
      ],
      "text/plain": [
       "   id_x                       start                        stop  member_id  \\\n",
       "0   383  2018-05-09 08:01:18.462109  2018-05-09 09:01:18.462109         48   \n",
       "1  1839  2018-07-10 12:01:18.462109  2018-07-10 13:01:18.462109         48   \n",
       "2  2676  2018-08-16 01:01:18.462109  2018-08-16 02:01:18.462109         48   \n",
       "3  3044  2018-08-31 02:01:18.462109  2018-08-31 03:01:18.462109         48   \n",
       "4  3105  2018-09-02 13:01:18.462109  2018-09-02 16:01:18.462109         48   \n",
       "\n",
       "   room_id   cost           name  number  hour_price  \n",
       "0        7  100.0  Thomas Thomas     102         100  \n",
       "1        7  100.0  Thomas Thomas     102         100  \n",
       "2        7  100.0  Thomas Thomas     102         100  \n",
       "3        7  100.0  Thomas Thomas     102         100  \n",
       "4        7  300.0  Thomas Thomas     102         100  "
      ]
     },
     "execution_count": 10,
     "metadata": {},
     "output_type": "execute_result"
    }
   ],
   "source": [
    "df.head()"
   ]
  },
  {
   "cell_type": "markdown",
   "metadata": {},
   "source": [
    "# Q1"
   ]
  },
  {
   "cell_type": "code",
   "execution_count": 11,
   "metadata": {},
   "outputs": [
    {
     "data": {
      "text/html": [
       "<div>\n",
       "<style scoped>\n",
       "    .dataframe tbody tr th:only-of-type {\n",
       "        vertical-align: middle;\n",
       "    }\n",
       "\n",
       "    .dataframe tbody tr th {\n",
       "        vertical-align: top;\n",
       "    }\n",
       "\n",
       "    .dataframe thead tr th {\n",
       "        text-align: left;\n",
       "    }\n",
       "\n",
       "    .dataframe thead tr:last-of-type th {\n",
       "        text-align: right;\n",
       "    }\n",
       "</style>\n",
       "<table border=\"1\" class=\"dataframe\">\n",
       "  <thead>\n",
       "    <tr>\n",
       "      <th></th>\n",
       "      <th></th>\n",
       "      <th>cost</th>\n",
       "    </tr>\n",
       "    <tr>\n",
       "      <th></th>\n",
       "      <th></th>\n",
       "      <th>sum</th>\n",
       "    </tr>\n",
       "    <tr>\n",
       "      <th>member_id</th>\n",
       "      <th>name</th>\n",
       "      <th></th>\n",
       "    </tr>\n",
       "  </thead>\n",
       "  <tbody>\n",
       "    <tr>\n",
       "      <th>94</th>\n",
       "      <th>Oscar Smith</th>\n",
       "      <td>15116.0</td>\n",
       "    </tr>\n",
       "  </tbody>\n",
       "</table>\n",
       "</div>"
      ],
      "text/plain": [
       "                          cost\n",
       "                           sum\n",
       "member_id name                \n",
       "94        Oscar Smith  15116.0"
      ]
     },
     "execution_count": 11,
     "metadata": {},
     "output_type": "execute_result"
    }
   ],
   "source": [
    "df.groupby(by=['member_id','name'])\\\n",
    "    .agg({'cost' : ['sum']})\\\n",
    "    .sort_values(('cost','sum'),ascending=False)\\\n",
    "    .head(1)"
   ]
  },
  {
   "cell_type": "code",
   "execution_count": 12,
   "metadata": {},
   "outputs": [
    {
     "data": {
      "text/plain": [
       "<pandas.core.groupby.generic.DataFrameGroupBy object at 0x10ecc3128>"
      ]
     },
     "execution_count": 12,
     "metadata": {},
     "output_type": "execute_result"
    }
   ],
   "source": [
    "df.groupby(by=['member_id','name'])"
   ]
  },
  {
   "cell_type": "markdown",
   "metadata": {},
   "source": [
    "# Q2"
   ]
  },
  {
   "cell_type": "code",
   "execution_count": 13,
   "metadata": {},
   "outputs": [
    {
     "data": {
      "text/html": [
       "<div>\n",
       "<style scoped>\n",
       "    .dataframe tbody tr th:only-of-type {\n",
       "        vertical-align: middle;\n",
       "    }\n",
       "\n",
       "    .dataframe tbody tr th {\n",
       "        vertical-align: top;\n",
       "    }\n",
       "\n",
       "    .dataframe thead tr th {\n",
       "        text-align: left;\n",
       "    }\n",
       "\n",
       "    .dataframe thead tr:last-of-type th {\n",
       "        text-align: right;\n",
       "    }\n",
       "</style>\n",
       "<table border=\"1\" class=\"dataframe\">\n",
       "  <thead>\n",
       "    <tr>\n",
       "      <th></th>\n",
       "      <th></th>\n",
       "      <th>cost</th>\n",
       "    </tr>\n",
       "    <tr>\n",
       "      <th></th>\n",
       "      <th></th>\n",
       "      <th>sum</th>\n",
       "    </tr>\n",
       "    <tr>\n",
       "      <th>room_id</th>\n",
       "      <th>number</th>\n",
       "      <th></th>\n",
       "    </tr>\n",
       "  </thead>\n",
       "  <tbody>\n",
       "    <tr>\n",
       "      <th>10</th>\n",
       "      <th>105</th>\n",
       "      <td>269645.0</td>\n",
       "    </tr>\n",
       "  </tbody>\n",
       "</table>\n",
       "</div>"
      ],
      "text/plain": [
       "                    cost\n",
       "                     sum\n",
       "room_id number          \n",
       "10      105     269645.0"
      ]
     },
     "execution_count": 13,
     "metadata": {},
     "output_type": "execute_result"
    }
   ],
   "source": [
    "df.groupby(by=['room_id','number'])\\\n",
    "    .agg({'cost' : ['sum']})\\\n",
    "    .sort_values(('cost','sum'),ascending=False)\\\n",
    "    .head(1)"
   ]
  },
  {
   "cell_type": "markdown",
   "metadata": {},
   "source": [
    "# Q3"
   ]
  },
  {
   "cell_type": "code",
   "execution_count": 14,
   "metadata": {},
   "outputs": [
    {
     "data": {
      "text/plain": [
       "id_x                                1839\n",
       "start         2018-07-10 12:01:18.462109\n",
       "stop          2018-07-10 13:01:18.462109\n",
       "member_id                             48\n",
       "room_id                                7\n",
       "cost                                 100\n",
       "name                       Thomas Thomas\n",
       "number                               102\n",
       "hour_price                           100\n",
       "Name: 1, dtype: object"
      ]
     },
     "execution_count": 14,
     "metadata": {},
     "output_type": "execute_result"
    }
   ],
   "source": [
    "df.iloc[1]"
   ]
  },
  {
   "cell_type": "code",
   "execution_count": 15,
   "metadata": {},
   "outputs": [
    {
     "data": {
      "text/plain": [
       "35"
      ]
     },
     "execution_count": 15,
     "metadata": {},
     "output_type": "execute_result"
    }
   ],
   "source": [
    "len(df[df['name']=='Jack Jones'])"
   ]
  },
  {
   "cell_type": "markdown",
   "metadata": {},
   "source": [
    "# Q4"
   ]
  },
  {
   "cell_type": "code",
   "execution_count": 16,
   "metadata": {},
   "outputs": [
    {
     "data": {
      "text/plain": [
       "35"
      ]
     },
     "execution_count": 16,
     "metadata": {},
     "output_type": "execute_result"
    }
   ],
   "source": [
    "len(df[df['name']=='Claire Taylor'])"
   ]
  },
  {
   "cell_type": "code",
   "execution_count": 17,
   "metadata": {},
   "outputs": [],
   "source": [
    "x=pd.to_datetime(df.start,format='%Y-%m-%d %H:%M:%S')"
   ]
  },
  {
   "cell_type": "code",
   "execution_count": 18,
   "metadata": {},
   "outputs": [],
   "source": [
    "df['start']=pd.to_datetime(df.start,format='%Y-%m-%d %H:%M:%S')\n",
    "df['stop']=pd.to_datetime(df.stop,format='%Y-%m-%d %H:%M:%S')"
   ]
  },
  {
   "cell_type": "code",
   "execution_count": 19,
   "metadata": {},
   "outputs": [
    {
     "data": {
      "text/plain": [
       "Timestamp('2018-05-09 08:01:18.462109')"
      ]
     },
     "execution_count": 19,
     "metadata": {},
     "output_type": "execute_result"
    }
   ],
   "source": [
    "df.start[0]"
   ]
  },
  {
   "cell_type": "code",
   "execution_count": 20,
   "metadata": {},
   "outputs": [
    {
     "data": {
      "text/html": [
       "<div>\n",
       "<style scoped>\n",
       "    .dataframe tbody tr th:only-of-type {\n",
       "        vertical-align: middle;\n",
       "    }\n",
       "\n",
       "    .dataframe tbody tr th {\n",
       "        vertical-align: top;\n",
       "    }\n",
       "\n",
       "    .dataframe thead th {\n",
       "        text-align: right;\n",
       "    }\n",
       "</style>\n",
       "<table border=\"1\" class=\"dataframe\">\n",
       "  <thead>\n",
       "    <tr style=\"text-align: right;\">\n",
       "      <th></th>\n",
       "      <th>id_x</th>\n",
       "      <th>start</th>\n",
       "      <th>stop</th>\n",
       "      <th>member_id</th>\n",
       "      <th>room_id</th>\n",
       "      <th>cost</th>\n",
       "      <th>name</th>\n",
       "      <th>number</th>\n",
       "      <th>hour_price</th>\n",
       "    </tr>\n",
       "  </thead>\n",
       "  <tbody>\n",
       "    <tr>\n",
       "      <th>0</th>\n",
       "      <td>383</td>\n",
       "      <td>2018-05-09 08:01:18.462109</td>\n",
       "      <td>2018-05-09 09:01:18.462109</td>\n",
       "      <td>48</td>\n",
       "      <td>7</td>\n",
       "      <td>100.0</td>\n",
       "      <td>Thomas Thomas</td>\n",
       "      <td>102</td>\n",
       "      <td>100</td>\n",
       "    </tr>\n",
       "    <tr>\n",
       "      <th>1</th>\n",
       "      <td>1839</td>\n",
       "      <td>2018-07-10 12:01:18.462109</td>\n",
       "      <td>2018-07-10 13:01:18.462109</td>\n",
       "      <td>48</td>\n",
       "      <td>7</td>\n",
       "      <td>100.0</td>\n",
       "      <td>Thomas Thomas</td>\n",
       "      <td>102</td>\n",
       "      <td>100</td>\n",
       "    </tr>\n",
       "    <tr>\n",
       "      <th>2</th>\n",
       "      <td>2676</td>\n",
       "      <td>2018-08-16 01:01:18.462109</td>\n",
       "      <td>2018-08-16 02:01:18.462109</td>\n",
       "      <td>48</td>\n",
       "      <td>7</td>\n",
       "      <td>100.0</td>\n",
       "      <td>Thomas Thomas</td>\n",
       "      <td>102</td>\n",
       "      <td>100</td>\n",
       "    </tr>\n",
       "    <tr>\n",
       "      <th>3</th>\n",
       "      <td>3044</td>\n",
       "      <td>2018-08-31 02:01:18.462109</td>\n",
       "      <td>2018-08-31 03:01:18.462109</td>\n",
       "      <td>48</td>\n",
       "      <td>7</td>\n",
       "      <td>100.0</td>\n",
       "      <td>Thomas Thomas</td>\n",
       "      <td>102</td>\n",
       "      <td>100</td>\n",
       "    </tr>\n",
       "    <tr>\n",
       "      <th>4</th>\n",
       "      <td>3105</td>\n",
       "      <td>2018-09-02 13:01:18.462109</td>\n",
       "      <td>2018-09-02 16:01:18.462109</td>\n",
       "      <td>48</td>\n",
       "      <td>7</td>\n",
       "      <td>300.0</td>\n",
       "      <td>Thomas Thomas</td>\n",
       "      <td>102</td>\n",
       "      <td>100</td>\n",
       "    </tr>\n",
       "  </tbody>\n",
       "</table>\n",
       "</div>"
      ],
      "text/plain": [
       "   id_x                      start                       stop  member_id  \\\n",
       "0   383 2018-05-09 08:01:18.462109 2018-05-09 09:01:18.462109         48   \n",
       "1  1839 2018-07-10 12:01:18.462109 2018-07-10 13:01:18.462109         48   \n",
       "2  2676 2018-08-16 01:01:18.462109 2018-08-16 02:01:18.462109         48   \n",
       "3  3044 2018-08-31 02:01:18.462109 2018-08-31 03:01:18.462109         48   \n",
       "4  3105 2018-09-02 13:01:18.462109 2018-09-02 16:01:18.462109         48   \n",
       "\n",
       "   room_id   cost           name  number  hour_price  \n",
       "0        7  100.0  Thomas Thomas     102         100  \n",
       "1        7  100.0  Thomas Thomas     102         100  \n",
       "2        7  100.0  Thomas Thomas     102         100  \n",
       "3        7  100.0  Thomas Thomas     102         100  \n",
       "4        7  300.0  Thomas Thomas     102         100  "
      ]
     },
     "execution_count": 20,
     "metadata": {},
     "output_type": "execute_result"
    }
   ],
   "source": [
    "df.head()"
   ]
  },
  {
   "cell_type": "markdown",
   "metadata": {},
   "source": [
    "# Q5"
   ]
  },
  {
   "cell_type": "code",
   "execution_count": 21,
   "metadata": {},
   "outputs": [],
   "source": [
    "price=0\n",
    "for i in range(len(df)):\n",
    "    if df['stop'][i].month==6:\n",
    "        price+=df['cost'][i]"
   ]
  },
  {
   "cell_type": "code",
   "execution_count": 22,
   "metadata": {},
   "outputs": [
    {
     "data": {
      "text/plain": [
       "196236.0"
      ]
     },
     "execution_count": 22,
     "metadata": {},
     "output_type": "execute_result"
    }
   ],
   "source": [
    "price"
   ]
  },
  {
   "cell_type": "code",
   "execution_count": 24,
   "metadata": {},
   "outputs": [
    {
     "data": {
      "text/plain": [
       "195936.0"
      ]
     },
     "execution_count": 24,
     "metadata": {},
     "output_type": "execute_result"
    }
   ],
   "source": [
    "newdf = df[df['stop']<'2018-07-01']\n",
    "newdf = newdf[newdf['stop']>='2018-06-01']\n",
    "newdf = newdf[newdf['start']<'2018-07-01']\n",
    "newdf = newdf[newdf['start']>='2018-06-01']\n",
    "sum(newdf['cost'])"
   ]
  },
  {
   "cell_type": "markdown",
   "metadata": {},
   "source": [
    "# Q6"
   ]
  },
  {
   "cell_type": "code",
   "execution_count": 25,
   "metadata": {},
   "outputs": [],
   "source": [
    "room6=0.0\n",
    "room7=0.0\n",
    "room8=0.0\n",
    "room9=0.0\n",
    "room10=0.0\n",
    "for i in range(len(df)):\n",
    "    if df['stop'][i].month==6:\n",
    "        if df['room_id'][i]==6:\n",
    "            room6+=df['cost'][i]\n",
    "        elif df['room_id'][i]==7:\n",
    "            room7+=df['cost'][i]\n",
    "        elif df['room_id'][i]==8:\n",
    "            room8+=df['cost'][i]\n",
    "        elif df['room_id'][i]==9:\n",
    "            room9+=df['cost'][i]\n",
    "        else:\n",
    "            room10+=df['cost'][i]"
   ]
  },
  {
   "cell_type": "code",
   "execution_count": 26,
   "metadata": {},
   "outputs": [
    {
     "name": "stdout",
     "output_type": "stream",
     "text": [
      "room6: 30135.0\n",
      "room7: 30400.0\n",
      "room8: 48450.0\n",
      "room9: 37700.0\n",
      "room10: 49551.0\n",
      "total cost: 196236.0\n"
     ]
    }
   ],
   "source": [
    "print(f'room6: {room6}')\n",
    "print(f'room7: {room7}')\n",
    "print(f'room8: {room8}')\n",
    "print(f'room9: {room9}')\n",
    "print(f'room10: {room10}')\n",
    "print(f'total cost: {room6+room7+room8+room9+room10}')"
   ]
  },
  {
   "cell_type": "code",
   "execution_count": 27,
   "metadata": {},
   "outputs": [
    {
     "data": {
      "text/html": [
       "<div>\n",
       "<style scoped>\n",
       "    .dataframe tbody tr th:only-of-type {\n",
       "        vertical-align: middle;\n",
       "    }\n",
       "\n",
       "    .dataframe tbody tr th {\n",
       "        vertical-align: top;\n",
       "    }\n",
       "\n",
       "    .dataframe thead tr th {\n",
       "        text-align: left;\n",
       "    }\n",
       "\n",
       "    .dataframe thead tr:last-of-type th {\n",
       "        text-align: right;\n",
       "    }\n",
       "</style>\n",
       "<table border=\"1\" class=\"dataframe\">\n",
       "  <thead>\n",
       "    <tr>\n",
       "      <th></th>\n",
       "      <th></th>\n",
       "      <th>cost</th>\n",
       "    </tr>\n",
       "    <tr>\n",
       "      <th></th>\n",
       "      <th></th>\n",
       "      <th>sum</th>\n",
       "    </tr>\n",
       "    <tr>\n",
       "      <th>room_id</th>\n",
       "      <th>number</th>\n",
       "      <th></th>\n",
       "    </tr>\n",
       "  </thead>\n",
       "  <tbody>\n",
       "    <tr>\n",
       "      <th>6</th>\n",
       "      <th>101</th>\n",
       "      <td>30135.0</td>\n",
       "    </tr>\n",
       "    <tr>\n",
       "      <th>7</th>\n",
       "      <th>102</th>\n",
       "      <td>30100.0</td>\n",
       "    </tr>\n",
       "    <tr>\n",
       "      <th>8</th>\n",
       "      <th>103</th>\n",
       "      <td>48450.0</td>\n",
       "    </tr>\n",
       "    <tr>\n",
       "      <th>9</th>\n",
       "      <th>104</th>\n",
       "      <td>37700.0</td>\n",
       "    </tr>\n",
       "    <tr>\n",
       "      <th>10</th>\n",
       "      <th>105</th>\n",
       "      <td>49551.0</td>\n",
       "    </tr>\n",
       "  </tbody>\n",
       "</table>\n",
       "</div>"
      ],
      "text/plain": [
       "                   cost\n",
       "                    sum\n",
       "room_id number         \n",
       "6       101     30135.0\n",
       "7       102     30100.0\n",
       "8       103     48450.0\n",
       "9       104     37700.0\n",
       "10      105     49551.0"
      ]
     },
     "execution_count": 27,
     "metadata": {},
     "output_type": "execute_result"
    }
   ],
   "source": [
    "newdf.groupby(by=['room_id','number']).agg({'cost' : ['sum']})"
   ]
  },
  {
   "cell_type": "markdown",
   "metadata": {},
   "source": [
    "# Q7"
   ]
  },
  {
   "cell_type": "code",
   "execution_count": 28,
   "metadata": {},
   "outputs": [
    {
     "name": "stdout",
     "output_type": "stream",
     "text": [
      "Oliver Williams\n",
      "William Taylor\n",
      "Oliver Davies\n",
      "James Thomas\n"
     ]
    }
   ],
   "source": [
    "for i in range(len(df)):\n",
    "    if df['stop'][i].month==6:\n",
    "        if df['stop'][i].hour-df['start'][i].hour==8 or df['stop'][i].hour-df['start'][i].hour== -16:\n",
    "            #print(df['start'][i])\n",
    "            #print(df['stop'][i])\n",
    "            print(df['name'][i])\n"
   ]
  },
  {
   "cell_type": "code",
   "execution_count": 29,
   "metadata": {},
   "outputs": [
    {
     "name": "stderr",
     "output_type": "stream",
     "text": [
      "/Library/Frameworks/Python.framework/Versions/3.7/lib/python3.7/site-packages/ipykernel_launcher.py:1: FutureWarning: Passing datetime64-dtype data to TimedeltaIndex is deprecated, will raise a TypeError in a future version\n",
      "  \"\"\"Entry point for launching an IPython kernel.\n",
      "/Library/Frameworks/Python.framework/Versions/3.7/lib/python3.7/site-packages/ipykernel_launcher.py:2: FutureWarning: Passing datetime64-dtype data to TimedeltaIndex is deprecated, will raise a TypeError in a future version\n",
      "  \n"
     ]
    },
    {
     "data": {
      "text/plain": [
       "869     Oliver Williams\n",
       "1704     William Taylor\n",
       "2093      Oliver Davies\n",
       "3379       James Thomas\n",
       "Name: name, dtype: object"
      ]
     },
     "execution_count": 29,
     "metadata": {},
     "output_type": "execute_result"
    }
   ],
   "source": [
    "newdf['start']=pd.to_timedelta(newdf['start'])\n",
    "newdf['stop']=pd.to_timedelta(newdf['stop'])\n",
    "newdf['name'][newdf['stop']-newdf['start']==pd.Timedelta('8 hours')]"
   ]
  },
  {
   "cell_type": "markdown",
   "metadata": {},
   "source": [
    "# Q8"
   ]
  },
  {
   "cell_type": "code",
   "execution_count": 30,
   "metadata": {},
   "outputs": [
    {
     "name": "stdout",
     "output_type": "stream",
     "text": [
      "Thomas Davies\n",
      "Jack Johnson\n",
      "Charlie Brown\n",
      "William Evans\n"
     ]
    }
   ],
   "source": [
    "for i in range(len(df)):\n",
    "    if df['stop'][i].month==6:\n",
    "        if df['stop'][i].hour-df['start'][i].hour>=9 or \\\n",
    "        (df['stop'][i].day-df['start'][i].day==1 and \\\n",
    "         df['start'][i].hour-df['stop'][i].hour<=15) or \\\n",
    "        df['stop'][i].day-df['start'][i].day>1:\n",
    "            #print(df['start'][i])\n",
    "            #print(df['stop'][i])\n",
    "            print(df['name'][i])"
   ]
  },
  {
   "cell_type": "code",
   "execution_count": 31,
   "metadata": {},
   "outputs": [
    {
     "data": {
      "text/plain": [
       "209     Thomas Davies\n",
       "1101     Jack Johnson\n",
       "2266    Charlie Brown\n",
       "3095    William Evans\n",
       "Name: name, dtype: object"
      ]
     },
     "execution_count": 31,
     "metadata": {},
     "output_type": "execute_result"
    }
   ],
   "source": [
    "newdf['name'][newdf['stop']-newdf['start']>=pd.Timedelta('9 hours')]"
   ]
  },
  {
   "cell_type": "markdown",
   "metadata": {},
   "source": [
    "# Q9"
   ]
  },
  {
   "cell_type": "code",
   "execution_count": 32,
   "metadata": {},
   "outputs": [
    {
     "name": "stdout",
     "output_type": "stream",
     "text": [
      "total time: 1412 hours\n",
      "total time: 58 day 20 hours\n"
     ]
    }
   ],
   "source": [
    "total=0\n",
    "for i in range(len(df)):\n",
    "    if df['stop'][i].month==6:\n",
    "        if df['stop'][i].day-df['start'][i].day==0:\n",
    "            total+=df['stop'][i].hour-df['start'][i].hour\n",
    "        if df['stop'][i].day-df['start'][i].day==1:\n",
    "            total+=df['stop'][i].hour+(24-df['start'][i].hour)\n",
    "            #print(df['stop'][i].hour+(24-df['start'][i].hour))\n",
    "        if df['stop'][i].day-df['start'][i].day>1:\n",
    "            total\n",
    "print(f'total time: {total} hours')\n",
    "print(f'total time: {total//24} day {total%24} hours')"
   ]
  },
  {
   "cell_type": "code",
   "execution_count": 33,
   "metadata": {},
   "outputs": [
    {
     "data": {
      "text/plain": [
       "Timedelta('58 days 20:00:00')"
      ]
     },
     "execution_count": 33,
     "metadata": {},
     "output_type": "execute_result"
    }
   ],
   "source": [
    "#sum(newdf['stop']-newdf['start'])\n",
    "(newdf['stop']-newdf['start']).sum()"
   ]
  },
  {
   "cell_type": "code",
   "execution_count": null,
   "metadata": {},
   "outputs": [],
   "source": []
  }
 ],
 "metadata": {
  "kernelspec": {
   "display_name": "Python 3",
   "language": "python",
   "name": "python3"
  },
  "language_info": {
   "codemirror_mode": {
    "name": "ipython",
    "version": 3
   },
   "file_extension": ".py",
   "mimetype": "text/x-python",
   "name": "python",
   "nbconvert_exporter": "python",
   "pygments_lexer": "ipython3",
   "version": "3.7.2"
  }
 },
 "nbformat": 4,
 "nbformat_minor": 2
}
