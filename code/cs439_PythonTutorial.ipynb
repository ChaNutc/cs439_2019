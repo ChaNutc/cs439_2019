{
 "cells": [
  {
   "cell_type": "code",
   "execution_count": 1,
   "metadata": {},
   "outputs": [],
   "source": [
    "x=[2,3,5,6,9,0]"
   ]
  },
  {
   "cell_type": "code",
   "execution_count": 2,
   "metadata": {},
   "outputs": [
    {
     "name": "stdout",
     "output_type": "stream",
     "text": [
      "4\n",
      "9\n",
      "25\n",
      "36\n",
      "81\n",
      "0\n"
     ]
    }
   ],
   "source": [
    "for i in x:\n",
    "    print(i**2)"
   ]
  },
  {
   "cell_type": "code",
   "execution_count": 3,
   "metadata": {},
   "outputs": [
    {
     "name": "stdout",
     "output_type": "stream",
     "text": [
      "0\n",
      "1\n",
      "2\n"
     ]
    }
   ],
   "source": [
    "for i in range(3):\n",
    "    print(i)"
   ]
  },
  {
   "cell_type": "code",
   "execution_count": 5,
   "metadata": {},
   "outputs": [
    {
     "data": {
      "text/plain": [
       "[2, 3, 5, 6, 9, 0]"
      ]
     },
     "execution_count": 5,
     "metadata": {},
     "output_type": "execute_result"
    }
   ],
   "source": [
    "x"
   ]
  },
  {
   "cell_type": "code",
   "execution_count": 6,
   "metadata": {},
   "outputs": [
    {
     "name": "stdout",
     "output_type": "stream",
     "text": [
      "0\n",
      "1\n",
      "4\n",
      "9\n",
      "16\n",
      "25\n",
      "36\n",
      "49\n",
      "64\n",
      "81\n"
     ]
    }
   ],
   "source": [
    "for i in range(10):\n",
    "    print(i**2)"
   ]
  },
  {
   "cell_type": "code",
   "execution_count": 7,
   "metadata": {},
   "outputs": [],
   "source": [
    "x=[]\n",
    "for i in range(10):\n",
    "    x.append(i**2)"
   ]
  },
  {
   "cell_type": "code",
   "execution_count": 8,
   "metadata": {},
   "outputs": [
    {
     "name": "stdout",
     "output_type": "stream",
     "text": [
      "[0, 1, 4, 9, 16, 25, 36, 49, 64, 81]\n"
     ]
    }
   ],
   "source": [
    "print(x)"
   ]
  },
  {
   "cell_type": "code",
   "execution_count": 12,
   "metadata": {},
   "outputs": [
    {
     "data": {
      "text/plain": [
       "[0, 1, 4, 9, 16, 25, 36, 49, 64, 81]"
      ]
     },
     "execution_count": 12,
     "metadata": {},
     "output_type": "execute_result"
    }
   ],
   "source": [
    "x=[i**2 for i in range(10)]\n",
    "x"
   ]
  },
  {
   "cell_type": "code",
   "execution_count": 14,
   "metadata": {},
   "outputs": [
    {
     "name": "stdout",
     "output_type": "stream",
     "text": [
      "28.7 ms ± 4.36 ms per loop (mean ± std. dev. of 7 runs, 1 loop each)\n"
     ]
    }
   ],
   "source": [
    "%%timeit -n1\n",
    "x=[i**2 for i in range(100000)]"
   ]
  },
  {
   "cell_type": "code",
   "execution_count": 16,
   "metadata": {},
   "outputs": [],
   "source": [
    "d ={'key' : 'value'}"
   ]
  },
  {
   "cell_type": "code",
   "execution_count": 17,
   "metadata": {},
   "outputs": [
    {
     "data": {
      "text/plain": [
       "'value'"
      ]
     },
     "execution_count": 17,
     "metadata": {},
     "output_type": "execute_result"
    }
   ],
   "source": [
    "d['key']"
   ]
  },
  {
   "cell_type": "code",
   "execution_count": 20,
   "metadata": {},
   "outputs": [
    {
     "data": {
      "text/plain": [
       "'not found'"
      ]
     },
     "execution_count": 20,
     "metadata": {},
     "output_type": "execute_result"
    }
   ],
   "source": [
    "d.get('sward','not found')"
   ]
  },
  {
   "cell_type": "code",
   "execution_count": 21,
   "metadata": {},
   "outputs": [
    {
     "data": {
      "text/plain": [
       "'value'"
      ]
     },
     "execution_count": 21,
     "metadata": {},
     "output_type": "execute_result"
    }
   ],
   "source": [
    "d.get('key','not found')"
   ]
  },
  {
   "cell_type": "code",
   "execution_count": 22,
   "metadata": {},
   "outputs": [],
   "source": [
    "book = {'wasit':'224','pokpong':'225'}"
   ]
  },
  {
   "cell_type": "code",
   "execution_count": 24,
   "metadata": {},
   "outputs": [
    {
     "data": {
      "text/plain": [
       "'224'"
      ]
     },
     "execution_count": 24,
     "metadata": {},
     "output_type": "execute_result"
    }
   ],
   "source": [
    "book.get('wasit','not found')"
   ]
  },
  {
   "cell_type": "code",
   "execution_count": 25,
   "metadata": {},
   "outputs": [
    {
     "data": {
      "text/plain": [
       "'not found'"
      ]
     },
     "execution_count": 25,
     "metadata": {},
     "output_type": "execute_result"
    }
   ],
   "source": [
    "book.get('einstein','not found')"
   ]
  },
  {
   "cell_type": "code",
   "execution_count": 26,
   "metadata": {},
   "outputs": [],
   "source": [
    "book['einstein']='227'"
   ]
  },
  {
   "cell_type": "code",
   "execution_count": 27,
   "metadata": {},
   "outputs": [
    {
     "data": {
      "text/plain": [
       "{'wasit': '224', 'pokpong': '225', 'einstein': '227'}"
      ]
     },
     "execution_count": 27,
     "metadata": {},
     "output_type": "execute_result"
    }
   ],
   "source": [
    "book"
   ]
  },
  {
   "cell_type": "code",
   "execution_count": 28,
   "metadata": {},
   "outputs": [
    {
     "data": {
      "text/plain": [
       "'227'"
      ]
     },
     "execution_count": 28,
     "metadata": {},
     "output_type": "execute_result"
    }
   ],
   "source": [
    "book.get('einstein','not found')"
   ]
  },
  {
   "cell_type": "code",
   "execution_count": 29,
   "metadata": {},
   "outputs": [
    {
     "data": {
      "text/plain": [
       "'227'"
      ]
     },
     "execution_count": 29,
     "metadata": {},
     "output_type": "execute_result"
    }
   ],
   "source": [
    "book.pop('einstein')"
   ]
  },
  {
   "cell_type": "code",
   "execution_count": 30,
   "metadata": {},
   "outputs": [
    {
     "data": {
      "text/plain": [
       "{'wasit': '224', 'pokpong': '225'}"
      ]
     },
     "execution_count": 30,
     "metadata": {},
     "output_type": "execute_result"
    }
   ],
   "source": [
    "book"
   ]
  },
  {
   "cell_type": "code",
   "execution_count": 101,
   "metadata": {},
   "outputs": [
    {
     "name": "stdout",
     "output_type": "stream",
     "text": [
      "Applications\n",
      "Desktop\n",
      "Documents\n",
      "Downloads\n",
      "Library\n",
      "Movies\n",
      "Music\n",
      "Pictures\n",
      "Public\n",
      "condo\n",
      "cs301 application.pptx\n",
      "cs301.docx\n",
      "cs439.ipynb\n",
      "littleread.txt\n",
      "playGround\n",
      "unreal project\n",
      "อ้างหลักการ.docx\n"
     ]
    }
   ],
   "source": [
    "%%sh\n",
    "ls"
   ]
  },
  {
   "cell_type": "code",
   "execution_count": 112,
   "metadata": {},
   "outputs": [],
   "source": [
    "with open('littleread.txt','r') as f:\n",
    "    s=f.read()"
   ]
  },
  {
   "cell_type": "code",
   "execution_count": 115,
   "metadata": {},
   "outputs": [
    {
     "data": {
      "text/plain": [
       "19"
      ]
     },
     "execution_count": 115,
     "metadata": {},
     "output_type": "execute_result"
    }
   ],
   "source": [
    "do={}\n",
    "for i in s.split():\n",
    "    key = i.lower()\n",
    "    do[key]=do.get(key,0)+1\n",
    "do['little']"
   ]
  },
  {
   "cell_type": "code",
   "execution_count": 117,
   "metadata": {},
   "outputs": [
    {
     "data": {
      "text/plain": [
       "[('once', 1),\n",
       " ('certain', 1),\n",
       " ('village', 1),\n",
       " ('country', 1),\n",
       " ('girl,', 1),\n",
       " ('prettiest', 1),\n",
       " ('creature', 1),\n",
       " ('ever', 1),\n",
       " ('seen.', 1),\n",
       " ('excessively', 1),\n",
       " ('fond', 1),\n",
       " ('her;', 1),\n",
       " ('doted', 1),\n",
       " ('on', 1),\n",
       " ('still', 1),\n",
       " ('more.', 1),\n",
       " ('her.', 1),\n",
       " ('suited', 1),\n",
       " ('so', 1),\n",
       " ('extremely', 1),\n",
       " ('everybody', 1),\n",
       " ('called', 1),\n",
       " ('hood.', 1),\n",
       " ('one', 1),\n",
       " ('day', 1),\n",
       " ('mother,', 1),\n",
       " ('having', 1),\n",
       " ('cakes,', 1),\n",
       " ('\"go,', 1),\n",
       " ('dear,', 1),\n",
       " ('doing,', 1),\n",
       " ('ill.', 1),\n",
       " ('take', 1),\n",
       " ('cake,', 1),\n",
       " ('butter.\"', 1),\n",
       " ('set', 1),\n",
       " ('another', 1),\n",
       " ('village.', 1),\n",
       " ('through', 1),\n",
       " ('wood,', 1),\n",
       " ('met', 1),\n",
       " ('great', 1),\n",
       " ('mind', 1),\n",
       " ('up,', 1),\n",
       " ('dared', 1),\n",
       " ('not,', 1),\n",
       " ('woodcutters', 1),\n",
       " ('working', 1),\n",
       " ('nearby', 1),\n",
       " ('forest.', 1),\n",
       " ('asked', 1),\n",
       " ('where', 1),\n",
       " ('going.', 1),\n",
       " ('poor', 1),\n",
       " ('child,', 1),\n",
       " ('did', 1),\n",
       " ('know', 1),\n",
       " ('stay', 1),\n",
       " ('him,', 1),\n",
       " ('\"i', 1),\n",
       " ('am', 1),\n",
       " ('carry', 1),\n",
       " ('from', 1),\n",
       " ('\"does', 1),\n",
       " ('live', 1),\n",
       " ('far', 1),\n",
       " ('off?\"', 1),\n",
       " ('\"oh', 1),\n",
       " ('say,\"', 1),\n",
       " ('answered', 1),\n",
       " ('hood;', 1),\n",
       " ('beyond', 1),\n",
       " ('mill', 1),\n",
       " ('there,', 1),\n",
       " ('house', 1),\n",
       " ('village.\"', 1),\n",
       " ('\"well,\"', 1),\n",
       " ('\"and', 1),\n",
       " ('too.', 1),\n",
       " ('way', 1),\n",
       " ('that,', 1),\n",
       " ('we', 1),\n",
       " ('shall', 1),\n",
       " ('be', 1),\n",
       " ('first.\"', 1),\n",
       " ('ran', 1),\n",
       " ('fast', 1),\n",
       " ('taking', 1),\n",
       " ('shortest', 1),\n",
       " ('path,', 1),\n",
       " ('roundabout', 1),\n",
       " ('way,', 1),\n",
       " ('entertaining', 1),\n",
       " ('herself', 1),\n",
       " ('nuts,', 1),\n",
       " ('running', 1),\n",
       " ('after', 1),\n",
       " ('butterflies,', 1),\n",
       " ('bouquets', 1),\n",
       " ('flowers.', 1),\n",
       " ('long', 1),\n",
       " ('before', 1),\n",
       " ('arrived', 1),\n",
       " ('old', 1),\n",
       " (\"woman's\", 1),\n",
       " ('house.', 1),\n",
       " ('\"your', 1),\n",
       " ('grandchild,', 1),\n",
       " ('hood,\"', 1),\n",
       " ('replied', 1),\n",
       " ('counterfeiting', 1),\n",
       " ('voice;', 1),\n",
       " ('\"who', 1),\n",
       " ('sent', 1),\n",
       " ('somewhat', 1),\n",
       " ('ill,', 1),\n",
       " ('out,', 1),\n",
       " ('opened,', 1),\n",
       " ('moment,', 1),\n",
       " ('more', 1),\n",
       " ('than', 1),\n",
       " ('three', 1),\n",
       " ('days', 1),\n",
       " ('since', 1),\n",
       " ('eaten.', 1),\n",
       " ('shut', 1),\n",
       " (\"grandmother's\", 1),\n",
       " ('expecting', 1),\n",
       " ('came', 1),\n",
       " ('afterwards', 1),\n",
       " ('hearing', 1),\n",
       " ('afraid;', 1),\n",
       " ('believing', 1),\n",
       " ('cold', 1),\n",
       " ('hoarse,', 1),\n",
       " ('answered,', 1),\n",
       " ('grandchild', 1),\n",
       " ('sends', 1),\n",
       " ('you.\"', 1),\n",
       " ('softening', 1),\n",
       " ('his', 1),\n",
       " ('much', 1),\n",
       " ('opened.', 1),\n",
       " ('seeing', 1),\n",
       " ('in,', 1),\n",
       " ('hiding', 1),\n",
       " ('himself', 1),\n",
       " ('under', 1),\n",
       " ('bedclothes,', 1),\n",
       " ('\"put', 1),\n",
       " ('stool,', 1),\n",
       " ('get', 1),\n",
       " ('bed', 1),\n",
       " ('me.\"', 1),\n",
       " ('off', 1),\n",
       " ('clothes', 1),\n",
       " ('bed.', 1),\n",
       " ('greatly', 1),\n",
       " ('amazed', 1),\n",
       " ('looked', 1),\n",
       " ('nightclothes,', 1),\n",
       " ('arms', 1),\n",
       " ('hug', 1),\n",
       " ('dear.\"', 1),\n",
       " ('legs', 1),\n",
       " ('run', 1),\n",
       " ('ears', 1),\n",
       " ('eyes', 1),\n",
       " ('teeth', 1),\n",
       " ('have', 1),\n",
       " ('got!\"', 1),\n",
       " ('with.\"', 1),\n",
       " ('and,', 1),\n",
       " ('saying', 1),\n",
       " ('words,', 1),\n",
       " ('wicked', 1),\n",
       " ('all', 1),\n",
       " ('up.', 1),\n",
       " ('moral:', 1),\n",
       " ('children,', 1),\n",
       " ('especially', 1),\n",
       " ('attractive,', 1),\n",
       " ('bred', 1),\n",
       " ('ladies,', 1),\n",
       " ('never', 1),\n",
       " ('strangers,', 1),\n",
       " ('if', 1),\n",
       " ('do', 1),\n",
       " ('so,', 1),\n",
       " ('may', 1),\n",
       " ('provide', 1),\n",
       " ('dinner', 1),\n",
       " ('wolf.', 1),\n",
       " ('say', 1),\n",
       " ('\"wolf,\"', 1),\n",
       " ('various', 1),\n",
       " ('kinds', 1),\n",
       " ('wolves.', 1),\n",
       " ('also', 1),\n",
       " ('those', 1),\n",
       " ('charming,', 1),\n",
       " ('quiet,', 1),\n",
       " ('polite,', 1),\n",
       " ('unassuming,', 1),\n",
       " ('complacent,', 1),\n",
       " ('sweet,', 1),\n",
       " ('pursue', 1),\n",
       " ('women', 1),\n",
       " ('home', 1),\n",
       " ('streets.', 1),\n",
       " ('unfortunately,', 1),\n",
       " ('gentle', 1),\n",
       " ('wolves', 1),\n",
       " ('most', 1),\n",
       " ('ones', 1),\n",
       " ('all.', 1),\n",
       " ('time', 2),\n",
       " ('lived', 2),\n",
       " ('mother', 2),\n",
       " ('woman', 2),\n",
       " ('made', 2),\n",
       " ('girl', 2),\n",
       " ('how', 2),\n",
       " ('your', 2),\n",
       " ('hear', 2),\n",
       " ('been', 2),\n",
       " ('very', 2),\n",
       " ('out', 2),\n",
       " ('immediately', 2),\n",
       " ('grandmother,', 2),\n",
       " ('going', 2),\n",
       " ('with', 2),\n",
       " ('eat', 2),\n",
       " ('because', 2),\n",
       " ('not', 2),\n",
       " ('dangerous', 2),\n",
       " ('talk', 2),\n",
       " ('mother.\"', 2),\n",
       " ('\"it', 2),\n",
       " ('first', 2),\n",
       " (\"i'll\", 2),\n",
       " ('could,', 2),\n",
       " ('took', 2),\n",
       " ('by', 2),\n",
       " ('gathering', 2),\n",
       " ('knocked', 2),\n",
       " ('door:', 2),\n",
       " ('tap,', 2),\n",
       " ('tap.', 2),\n",
       " ('\"who\\'s', 2),\n",
       " ('there?\"', 2),\n",
       " ('brought', 2),\n",
       " ('bed,', 2),\n",
       " ('cried', 2),\n",
       " ('\"pull', 2),\n",
       " ('latch', 2),\n",
       " ('up.\"', 2),\n",
       " ('pulled', 2),\n",
       " ('then', 2),\n",
       " ('fell', 2),\n",
       " ('ate', 2),\n",
       " ('up', 2),\n",
       " ('got', 2),\n",
       " ('voice', 2),\n",
       " ('come', 2),\n",
       " ('these', 2),\n",
       " ('young', 2),\n",
       " ('should', 2),\n",
       " ('they', 2),\n",
       " ('good', 3),\n",
       " ('well', 3),\n",
       " ('that', 3),\n",
       " ('some', 3),\n",
       " ('i', 3),\n",
       " ('has', 3),\n",
       " ('but', 3),\n",
       " ('will', 3),\n",
       " ('door', 3),\n",
       " ('into', 3),\n",
       " ('child.\"', 3),\n",
       " ('upon', 4),\n",
       " ('there', 4),\n",
       " ('this', 4),\n",
       " ('had', 4),\n",
       " ('hood', 4),\n",
       " ('her,', 4),\n",
       " ('is', 4),\n",
       " ('cake', 4),\n",
       " ('butter', 4),\n",
       " ('bobbin,', 4),\n",
       " ('hood,', 4),\n",
       " ('have!\"', 4),\n",
       " ('with,', 4),\n",
       " ('are', 4),\n",
       " ('grandmother', 5),\n",
       " ('for', 5),\n",
       " ('it', 5),\n",
       " ('pot', 5),\n",
       " ('as', 5),\n",
       " ('\"grandmother,', 5),\n",
       " ('what', 5),\n",
       " ('\"all', 5),\n",
       " ('better', 5),\n",
       " ('said', 6),\n",
       " ('go', 6),\n",
       " ('wolf,', 6),\n",
       " ('wolf', 6),\n",
       " ('at', 6),\n",
       " ('big', 6),\n",
       " ('my', 7),\n",
       " ('see', 7),\n",
       " ('she', 7),\n",
       " ('in', 8),\n",
       " ('he', 8),\n",
       " ('who', 11),\n",
       " ('was', 11),\n",
       " ('of', 11),\n",
       " ('red', 11),\n",
       " ('riding', 11),\n",
       " ('you', 12),\n",
       " ('a', 18),\n",
       " ('to', 18),\n",
       " ('little', 19),\n",
       " ('her', 19),\n",
       " ('and', 30),\n",
       " ('the', 45)]"
      ]
     },
     "execution_count": 117,
     "metadata": {},
     "output_type": "execute_result"
    }
   ],
   "source": [
    "sorted(do.items(), key=lambda x: x[1])"
   ]
  },
  {
   "cell_type": "code",
   "execution_count": 42,
   "metadata": {},
   "outputs": [],
   "source": [
    "x=(2,3,6)"
   ]
  },
  {
   "cell_type": "code",
   "execution_count": 43,
   "metadata": {},
   "outputs": [
    {
     "data": {
      "text/plain": [
       "2"
      ]
     },
     "execution_count": 43,
     "metadata": {},
     "output_type": "execute_result"
    }
   ],
   "source": [
    "x[0]"
   ]
  },
  {
   "cell_type": "code",
   "execution_count": 44,
   "metadata": {},
   "outputs": [],
   "source": [
    "x=[3,4,7,2,7,5,8,9]"
   ]
  },
  {
   "cell_type": "code",
   "execution_count": 45,
   "metadata": {},
   "outputs": [
    {
     "data": {
      "text/plain": [
       "[3, 4, 7, 2, 7, 5, 8, 9]"
      ]
     },
     "execution_count": 45,
     "metadata": {},
     "output_type": "execute_result"
    }
   ],
   "source": [
    "x"
   ]
  },
  {
   "cell_type": "code",
   "execution_count": 46,
   "metadata": {},
   "outputs": [
    {
     "data": {
      "text/plain": [
       "3"
      ]
     },
     "execution_count": 46,
     "metadata": {},
     "output_type": "execute_result"
    }
   ],
   "source": [
    "x[0]"
   ]
  },
  {
   "cell_type": "code",
   "execution_count": 47,
   "metadata": {},
   "outputs": [
    {
     "data": {
      "text/plain": [
       "9"
      ]
     },
     "execution_count": 47,
     "metadata": {},
     "output_type": "execute_result"
    }
   ],
   "source": [
    "x[-1]"
   ]
  },
  {
   "cell_type": "code",
   "execution_count": 51,
   "metadata": {},
   "outputs": [
    {
     "data": {
      "text/plain": [
       "8"
      ]
     },
     "execution_count": 51,
     "metadata": {},
     "output_type": "execute_result"
    }
   ],
   "source": [
    "#wrapper\n",
    "x[-2]"
   ]
  },
  {
   "cell_type": "code",
   "execution_count": 52,
   "metadata": {},
   "outputs": [
    {
     "data": {
      "text/plain": [
       "[3, 4, 7]"
      ]
     },
     "execution_count": 52,
     "metadata": {},
     "output_type": "execute_result"
    }
   ],
   "source": [
    "x[:3]"
   ]
  },
  {
   "cell_type": "code",
   "execution_count": 53,
   "metadata": {},
   "outputs": [
    {
     "data": {
      "text/plain": [
       "[5, 8, 9]"
      ]
     },
     "execution_count": 53,
     "metadata": {},
     "output_type": "execute_result"
    }
   ],
   "source": [
    "x[-3:]"
   ]
  },
  {
   "cell_type": "code",
   "execution_count": 54,
   "metadata": {},
   "outputs": [
    {
     "data": {
      "text/plain": [
       "[7, 2, 7, 5]"
      ]
     },
     "execution_count": 54,
     "metadata": {},
     "output_type": "execute_result"
    }
   ],
   "source": [
    "x[2:-2]"
   ]
  },
  {
   "cell_type": "code",
   "execution_count": 57,
   "metadata": {},
   "outputs": [],
   "source": [
    "#x[ lower_bound(inclusive) : upper_bound(exclusive) ]"
   ]
  },
  {
   "cell_type": "code",
   "execution_count": 83,
   "metadata": {},
   "outputs": [],
   "source": [
    "def foo(*args,**kwargs):\n",
    "    print(args)\n",
    "    print(kwargs)"
   ]
  },
  {
   "cell_type": "code",
   "execution_count": 84,
   "metadata": {},
   "outputs": [
    {
     "name": "stdout",
     "output_type": "stream",
     "text": [
      "(1,)\n",
      "{}\n"
     ]
    }
   ],
   "source": [
    "foo(1)"
   ]
  },
  {
   "cell_type": "code",
   "execution_count": 85,
   "metadata": {},
   "outputs": [
    {
     "name": "stdout",
     "output_type": "stream",
     "text": [
      "(1, 2)\n",
      "{}\n"
     ]
    }
   ],
   "source": [
    "foo(1,2)"
   ]
  },
  {
   "cell_type": "code",
   "execution_count": 86,
   "metadata": {},
   "outputs": [
    {
     "name": "stdout",
     "output_type": "stream",
     "text": [
      "(1, 2, 3)\n",
      "{}\n"
     ]
    }
   ],
   "source": [
    "foo(1,2,3)"
   ]
  },
  {
   "cell_type": "code",
   "execution_count": 87,
   "metadata": {},
   "outputs": [
    {
     "name": "stdout",
     "output_type": "stream",
     "text": [
      "(1, 2, 3, 'hello')\n",
      "{}\n"
     ]
    }
   ],
   "source": [
    "#can add input more than function param\n",
    "foo(1,2,3,\"hello\")"
   ]
  },
  {
   "cell_type": "code",
   "execution_count": 88,
   "metadata": {},
   "outputs": [
    {
     "name": "stdout",
     "output_type": "stream",
     "text": [
      "()\n",
      "{'name': 'wasit', 'heigth': 1.8, 'gender': 'male'}\n"
     ]
    }
   ],
   "source": [
    "foo(name=\"wasit\",heigth=1.8,gender='male')"
   ]
  },
  {
   "cell_type": "code",
   "execution_count": 89,
   "metadata": {},
   "outputs": [],
   "source": [
    "def foo(*args,**kwargs):\n",
    "    print(kwargs)\n",
    "    print('Hello %s, youe heigth is %s'%(kwargs['name'],kwargs['heigth']))"
   ]
  },
  {
   "cell_type": "code",
   "execution_count": 90,
   "metadata": {},
   "outputs": [
    {
     "name": "stdout",
     "output_type": "stream",
     "text": [
      "{'name': 'Eight', 'heigth': 1.9, 'gender': 'male'}\n",
      "Hello Eight, youe heigth is 1.9\n"
     ]
    }
   ],
   "source": [
    "foo(name=\"Eight\",heigth=1.9,gender='male')"
   ]
  },
  {
   "cell_type": "code",
   "execution_count": null,
   "metadata": {},
   "outputs": [],
   "source": []
  }
 ],
 "metadata": {
  "kernelspec": {
   "display_name": "Python 3",
   "language": "python",
   "name": "python3"
  },
  "language_info": {
   "codemirror_mode": {
    "name": "ipython",
    "version": 3
   },
   "file_extension": ".py",
   "mimetype": "text/x-python",
   "name": "python",
   "nbconvert_exporter": "python",
   "pygments_lexer": "ipython3",
   "version": "3.7.2"
  }
 },
 "nbformat": 4,
 "nbformat_minor": 2
}
