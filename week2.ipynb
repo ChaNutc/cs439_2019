{
 "cells": [
  {
   "cell_type": "markdown",
   "metadata": {},
   "source": [
    "# class\n",
    "# Package\n",
    "# module\n"
   ]
  },
  {
   "cell_type": "code",
   "execution_count": 1,
   "metadata": {},
   "outputs": [],
   "source": [
    "class Regtangle(object):\n",
    "    w=0\n",
    "    h=0"
   ]
  },
  {
   "cell_type": "code",
   "execution_count": 2,
   "metadata": {},
   "outputs": [],
   "source": [
    "x= Regtangle()"
   ]
  },
  {
   "cell_type": "code",
   "execution_count": 3,
   "metadata": {},
   "outputs": [],
   "source": [
    "x.w"
   ]
  },
  {
   "cell_type": "code",
   "execution_count": 4,
   "metadata": {},
   "outputs": [],
   "source": [
    "class Regtangle(object):\n",
    "    def __init__(self,w=0,h=0):\n",
    "        self.w = w\n",
    "        self.h = h\n",
    "    def area(self):\n",
    "        return self.w*self.h\n",
    "    def __str__(self):\n",
    "        return f'Regtangle width = {x.w} heigth = {x.h} area = {x.area()}'"
   ]
  },
  {
   "cell_type": "code",
   "execution_count": 5,
   "metadata": {},
   "outputs": [
    {
     "data": {
      "text/plain": [
       "20"
      ]
     },
     "execution_count": 5,
     "metadata": {},
     "output_type": "execute_result"
    }
   ],
   "source": [
    "x=Regtangle(5,4)\n",
    "x.area()"
   ]
  },
  {
   "cell_type": "code",
   "execution_count": 6,
   "metadata": {},
   "outputs": [
    {
     "name": "stdout",
     "output_type": "stream",
     "text": [
      "Regtangle width = 5 heigth = 4 area = 20\n"
     ]
    }
   ],
   "source": [
    "print(x)"
   ]
  },
  {
   "cell_type": "code",
   "execution_count": 7,
   "metadata": {},
   "outputs": [
    {
     "name": "stdout",
     "output_type": "stream",
     "text": [
      "Regtangle width = 5 heigth = 4 area = 20\n"
     ]
    }
   ],
   "source": [
    "print(f'Regtangle width = {x.w} heigth = {x.h} area = {x.area()}')"
   ]
  },
  {
   "cell_type": "code",
   "execution_count": 8,
   "metadata": {},
   "outputs": [],
   "source": [
    "class Square(Regtangle):\n",
    "    def __init__(self,w=0):\n",
    "        \n",
    "        self.w = w\n",
    "        self.h = w"
   ]
  },
  {
   "cell_type": "code",
   "execution_count": 9,
   "metadata": {},
   "outputs": [
    {
     "name": "stdout",
     "output_type": "stream",
     "text": [
      "Regtangle width = 5 heigth = 4 area = 20\n"
     ]
    }
   ],
   "source": [
    "y=Square(w=9)\n",
    "print(y)"
   ]
  },
  {
   "cell_type": "markdown",
   "metadata": {},
   "source": [
    "# Package Module"
   ]
  },
  {
   "cell_type": "code",
   "execution_count": 10,
   "metadata": {},
   "outputs": [
    {
     "name": "stdout",
     "output_type": "stream",
     "text": [
      "Applications\n",
      "Desktop\n",
      "Documents\n",
      "Downloads\n",
      "Library\n",
      "Movies\n",
      "Music\n",
      "Pictures\n",
      "Public\n",
      "condo\n",
      "cs301 application.pptx\n",
      "cs301.docx\n",
      "cs439_2019\n",
      "cs439_PythonTutorial.ipynb\n",
      "littleread.txt\n",
      "myrec\n",
      "playGround\n",
      "recmodule.py\n",
      "unreal project\n",
      "week2.ipynb\n",
      "อ้างหลักการ.docx\n"
     ]
    }
   ],
   "source": [
    "%%sh\n",
    "ls"
   ]
  },
  {
   "cell_type": "code",
   "execution_count": 11,
   "metadata": {},
   "outputs": [],
   "source": [
    "from myrec import recmodule as rm"
   ]
  },
  {
   "cell_type": "code",
   "execution_count": 12,
   "metadata": {},
   "outputs": [
    {
     "name": "stdout",
     "output_type": "stream",
     "text": [
      "Rectangle width = 4 heigth = 5 area = 20\n"
     ]
    }
   ],
   "source": [
    "x=rm.Rectangle(4,5)\n",
    "print(x)"
   ]
  },
  {
   "cell_type": "code",
   "execution_count": 13,
   "metadata": {},
   "outputs": [],
   "source": [
    "from myrec import triangle as rm"
   ]
  },
  {
   "cell_type": "code",
   "execution_count": 14,
   "metadata": {},
   "outputs": [
    {
     "name": "stdout",
     "output_type": "stream",
     "text": [
      "Hello\n"
     ]
    }
   ],
   "source": [
    "x=rm.Triangle(3,4)\n",
    "print(x)"
   ]
  },
  {
   "cell_type": "code",
   "execution_count": 26,
   "metadata": {},
   "outputs": [],
   "source": [
    "\"\"\"\"import math\n",
    "class Triangle(object):\n",
    "    def __init__(self,w,h):\n",
    "        self.w=w\n",
    "        self.h=h\n",
    "    def __str__(self):\n",
    "        return 'Hello' \n",
    "class Isoseles(Triangle):\n",
    "    def __init__(self,w,h):\n",
    "        self.w=w\n",
    "        self.h=h\n",
    "    def perimiter(self):\n",
    "        p=math.sqrt(((self.w/2.0)**2)+(self.h**2))\n",
    "        return p\n",
    "    def __str__(self):\n",
    "        return f'Isoseles perimiter is {self.perimiter()}'\n",
    "class equilateral(Isoseles):\n",
    "    def __init__(self,w):\n",
    "        self.w = w\n",
    "        self.h = w\n",
    "    def perimiter(self):\n",
    "        p=3*self.w\n",
    "        return p\n",
    "    def __str__(self):\n",
    "        return f'equilateral perimiter is {self.perimiter()}'"
   ]
  },
  {
   "cell_type": "code",
   "execution_count": 33,
   "metadata": {},
   "outputs": [
    {
     "name": "stdout",
     "output_type": "stream",
     "text": [
      "Hello\n",
      "Isoseles perimiter is 5.0\n",
      "equilateral perimiter is 18\n"
     ]
    }
   ],
   "source": [
    "x=rm.Triangle(6,4)\n",
    "print(x)\n",
    "x=rm.Isoseles(6,4)\n",
    "print(x)\n",
    "x=rm.equilateral(6)\n",
    "print(x)"
   ]
  },
  {
   "cell_type": "code",
   "execution_count": null,
   "metadata": {},
   "outputs": [],
   "source": []
  }
 ],
 "metadata": {
  "kernelspec": {
   "display_name": "Python 3",
   "language": "python",
   "name": "python3"
  },
  "language_info": {
   "codemirror_mode": {
    "name": "ipython",
    "version": 3
   },
   "file_extension": ".py",
   "mimetype": "text/x-python",
   "name": "python",
   "nbconvert_exporter": "python",
   "pygments_lexer": "ipython3",
   "version": "3.7.2"
  }
 },
 "nbformat": 4,
 "nbformat_minor": 2
}
